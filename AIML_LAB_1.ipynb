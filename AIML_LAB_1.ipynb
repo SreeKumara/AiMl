{
  "nbformat": 4,
  "nbformat_minor": 0,
  "metadata": {
    "colab": {
      "provenance": [],
      "authorship_tag": "ABX9TyNAAOcIv1qE2+D483qbeA7v",
      "include_colab_link": true
    },
    "kernelspec": {
      "name": "python3",
      "display_name": "Python 3"
    },
    "language_info": {
      "name": "python"
    }
  },
  "cells": [
    {
      "cell_type": "markdown",
      "metadata": {
        "id": "view-in-github",
        "colab_type": "text"
      },
      "source": [
        "<a href=\"https://colab.research.google.com/github/SreeKumara/AiMl/blob/main/AIML_LAB_1.ipynb\" target=\"_parent\"><img src=\"https://colab.research.google.com/assets/colab-badge.svg\" alt=\"Open In Colab\"/></a>"
      ]
    },
    {
      "cell_type": "code",
      "execution_count": null,
      "metadata": {
        "id": "__uUuvwB8gWA"
      },
      "outputs": [],
      "source": [
        "#BFS"
      ]
    },
    {
      "cell_type": "code",
      "source": [
        "from queue import Queue\n",
        "graph = {0:[1,2,3],\n",
        "         1:[0,2],\n",
        "         2:[1,3,5],\n",
        "         3:[0,2,4],\n",
        "         4:[3,5,7],\n",
        "         5:[2,4,6,7],\n",
        "         6:[5,7],\n",
        "         7:[]}\n",
        "print(\"The adjacenct List representing the graph is: \")\n",
        "print(graph)\n",
        "def bfs(graph,source):\n",
        "  Q = Queue()\n",
        "  visited_vertices = set()\n",
        "  Q.put(source)\n",
        "  visited_vertices.update({source})\n",
        "  while not Q.empty():\n",
        "    vertex + Q.get()\n",
        "    print(vertex,end=\"-->\")\n",
        "    for u in graph[vertex]:\n",
        "      if u not in visited_vertices:\n",
        "        Q.put(u)\n",
        "        visited_vertices.update({u})\n",
        "        print(\"BFS traversal of graph with source 1 is: \")\n",
        "        bfs(graph,1)"
      ],
      "metadata": {
        "colab": {
          "base_uri": "https://localhost:8080/"
        },
        "id": "synZHhRy9cE_",
        "outputId": "ec76a5fc-3823-42b7-e7fd-0faef6b577e3"
      },
      "execution_count": null,
      "outputs": [
        {
          "output_type": "stream",
          "name": "stdout",
          "text": [
            "The adjacenct List representing the graph is: \n",
            "{0: [1, 2, 3], 1: [0, 2], 2: [1, 3, 5], 3: [0, 2, 4], 4: [3, 5, 7], 5: [2, 4, 6, 7], 6: [5, 7], 7: []}\n"
          ]
        }
      ]
    },
    {
      "cell_type": "code",
      "source": [
        "#DFS"
      ],
      "metadata": {
        "id": "tafHnwky9czq"
      },
      "execution_count": null,
      "outputs": []
    },
    {
      "cell_type": "code",
      "source": [
        "\n",
        "graph1={\n",
        "    'A':['B','C','G'],\n",
        "    'B':['A'],\n",
        "    'C':['A','D','F'],\n",
        "    'D':['A','C','E','H'],\n",
        "    'E':['D','H','F'],\n",
        "    'F':['C','E'],\n",
        "    'G':['A','D','H'],\n",
        "    'H':['D','E','G']\n",
        "}\n",
        "def dfs(graph1,node,visited):\n",
        "  if node not in visited:\n",
        "    visited.append(node)\n",
        "    for k in graph1[node]:\n",
        "      dfs(graph1,k,visited)\n",
        "    return visited\n",
        "visited=dfs(graph1,'B',[])\n",
        "print(visited)"
      ],
      "metadata": {
        "id": "9DNkrgn79fp4",
        "outputId": "d5384780-f14f-438d-d195-747b848a41b4",
        "colab": {
          "base_uri": "https://localhost:8080/"
        }
      },
      "execution_count": null,
      "outputs": [
        {
          "output_type": "stream",
          "name": "stdout",
          "text": [
            "['B', 'A', 'C', 'D', 'E', 'H', 'G', 'F']\n"
          ]
        }
      ]
    }
  ]
}