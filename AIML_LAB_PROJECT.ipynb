{
  "nbformat": 4,
  "nbformat_minor": 0,
  "metadata": {
    "colab": {
      "provenance": [],
      "authorship_tag": "ABX9TyPESRZZnF6R64JlNHFLDdmx",
      "include_colab_link": true
    },
    "kernelspec": {
      "name": "python3",
      "display_name": "Python 3"
    },
    "language_info": {
      "name": "python"
    }
  },
  "cells": [
    {
      "cell_type": "markdown",
      "metadata": {
        "id": "view-in-github",
        "colab_type": "text"
      },
      "source": [
        "<a href=\"https://colab.research.google.com/github/SreeKumara/AiMl/blob/main/AIML_LAB_PROJECT.ipynb\" target=\"_parent\"><img src=\"https://colab.research.google.com/assets/colab-badge.svg\" alt=\"Open In Colab\"/></a>"
      ]
    },
    {
      "cell_type": "code",
      "execution_count": 47,
      "metadata": {
        "id": "LEvgzzjNWrZ1"
      },
      "outputs": [],
      "source": [
        "# 1. Support Vector Machine (SVR)"
      ]
    },
    {
      "cell_type": "code",
      "source": [
        "import pandas as pd\n",
        "from sklearn.model_selection import train_test_split\n",
        "from sklearn.preprocessing import StandardScaler\n",
        "from sklearn.svm import SVR\n",
        "from sklearn.metrics import mean_squared_error, r2_score"
      ],
      "metadata": {
        "id": "VtSVf6paYEhT"
      },
      "execution_count": 48,
      "outputs": []
    },
    {
      "cell_type": "code",
      "source": [
        "df = pd.read_csv('/content/laptop_prices.csv')"
      ],
      "metadata": {
        "id": "CHfqw6eeYI_7"
      },
      "execution_count": 49,
      "outputs": []
    },
    {
      "source": [
        "df_numeric = df.select_dtypes(include=['number'])\n",
        "X = df_numeric.drop(columns=['Price_euros'])\n",
        "y = df['Price_euros']\n",
        "X_train, X_test, y_train, y_test = train_test_split(X, y, test_size=0.2, random_state=42)\n",
        "scaler = StandardScaler()\n",
        "X_train = scaler.fit_transform(X_train)\n",
        "X_test = scaler.transform(X_test)"
      ],
      "cell_type": "code",
      "metadata": {
        "id": "-Rj6Lyc8agfx"
      },
      "execution_count": 50,
      "outputs": []
    },
    {
      "cell_type": "code",
      "source": [
        "svm_model = SVR()\n",
        "svm_model.fit(X_train, y_train)\n",
        "y_pred = svm_model.predict(X_test)"
      ],
      "metadata": {
        "id": "sknlKrWSakM3"
      },
      "execution_count": 51,
      "outputs": []
    },
    {
      "cell_type": "code",
      "source": [
        "def calculate_accuracy(y_true, y_pred, tolerance=0.1):\n",
        "    percentage_error = abs((y_true - y_pred) / y_true)\n",
        "    correct_predictions = percentage_error < tolerance\n",
        "    accuracy = correct_predictions.mean() * 100\n",
        "    return accuracy"
      ],
      "metadata": {
        "id": "qcXHq0qQeQel"
      },
      "execution_count": 67,
      "outputs": []
    },
    {
      "cell_type": "code",
      "source": [
        "mse = mean_squared_error(y_test, y_pred)\n",
        "r2 = r2_score(y_test, y_pred)\n",
        "accuracy = calculate_accuracy(y_test, y_pred)\n",
        "print(\"Support Vector Machine (SVR)\")\n",
        "print(\"Mean Squared Error:\", mse)\n",
        "print(\"R^2 Score:\", r2)\n",
        "print(\"Accuracy :\", accuracy, \"%\")"
      ],
      "metadata": {
        "colab": {
          "base_uri": "https://localhost:8080/"
        },
        "id": "bIS6oD8Uaod5",
        "outputId": "c30424d1-9664-4cb2-fce4-fcb7a84ef64e"
      },
      "execution_count": 87,
      "outputs": [
        {
          "output_type": "stream",
          "name": "stdout",
          "text": [
            "Support Vector Machine (SVR)\n",
            "Mean Squared Error: 87583.73197593703\n",
            "R^2 Score: 0.8235405972730622\n",
            "Accuracy : 39.6078431372549 %\n"
          ]
        }
      ]
    },
    {
      "cell_type": "code",
      "source": [
        "# 2. Linear Regression"
      ],
      "metadata": {
        "id": "8N2YNUJZbKI_"
      },
      "execution_count": 69,
      "outputs": []
    },
    {
      "cell_type": "code",
      "source": [
        "import pandas as pd\n",
        "from sklearn.model_selection import train_test_split\n",
        "from sklearn.preprocessing import StandardScaler\n",
        "from sklearn.linear_model import LinearRegression\n",
        "from sklearn.metrics import mean_squared_error, r2_score"
      ],
      "metadata": {
        "id": "qLDC64qOat4S"
      },
      "execution_count": 70,
      "outputs": []
    },
    {
      "cell_type": "code",
      "source": [
        "df = pd.read_csv('/content/laptop_prices.csv')"
      ],
      "metadata": {
        "id": "hzMddDa9a1cX"
      },
      "execution_count": 71,
      "outputs": []
    },
    {
      "cell_type": "code",
      "source": [
        "df_numeric = df.select_dtypes(include=['number'])\n",
        "X = df_numeric.drop(columns=['Price_euros'])\n",
        "y = df_numeric['Price_euros']\n",
        "X_train, X_test, y_train, y_test = train_test_split(X, y, test_size=0.2, random_state=42)\n",
        "scaler = StandardScaler()\n",
        "X_train = scaler.fit_transform(X_train)\n",
        "X_test = scaler.transform(X_test)"
      ],
      "metadata": {
        "id": "DmPycmo2a4Ni"
      },
      "execution_count": 72,
      "outputs": []
    },
    {
      "cell_type": "code",
      "source": [
        "lr_model = LinearRegression()\n",
        "lr_model.fit(X_train, y_train)\n",
        "y_pred = lr_model.predict(X_test)"
      ],
      "metadata": {
        "id": "V1FjGUInbFlh"
      },
      "execution_count": 73,
      "outputs": []
    },
    {
      "cell_type": "code",
      "source": [
        "mse = mean_squared_error(y_test, y_pred)\n",
        "r2 = r2_score(y_test, y_pred)\n",
        "accuracy = calculate_accuracy(y_test, y_pred)\n",
        "print(\"Linear Regression\")\n",
        "print(\"Mean Squared Error:\", mse)\n",
        "print(\"R^2 Score:\", r2)\n",
        "print(\"Accuracy :\", accuracy, \"%\")"
      ],
      "metadata": {
        "colab": {
          "base_uri": "https://localhost:8080/"
        },
        "id": "kobZX1qsbGCn",
        "outputId": "24b8e48a-83b7-4b8e-f834-8b9a8b5abbe9"
      },
      "execution_count": 88,
      "outputs": [
        {
          "output_type": "stream",
          "name": "stdout",
          "text": [
            "Linear Regression\n",
            "Mean Squared Error: 87583.73197593703\n",
            "R^2 Score: 0.8235405972730622\n",
            "Accuracy : 39.6078431372549 %\n"
          ]
        }
      ]
    },
    {
      "cell_type": "code",
      "source": [
        "# 3. Decision Tree"
      ],
      "metadata": {
        "id": "DYDIHDAKbPbZ"
      },
      "execution_count": 75,
      "outputs": []
    },
    {
      "cell_type": "code",
      "source": [
        "import pandas as pd\n",
        "from sklearn.model_selection import train_test_split\n",
        "from sklearn.preprocessing import StandardScaler\n",
        "from sklearn.tree import DecisionTreeRegressor\n",
        "from sklearn.metrics import mean_squared_error, r2_score"
      ],
      "metadata": {
        "id": "AiuO10iIbYs2"
      },
      "execution_count": 76,
      "outputs": []
    },
    {
      "cell_type": "code",
      "source": [
        "df = pd.read_csv('/content/laptop_prices.csv')"
      ],
      "metadata": {
        "id": "_r4rjVr8bcDo"
      },
      "execution_count": 77,
      "outputs": []
    },
    {
      "cell_type": "code",
      "source": [
        "df_numeric = df.select_dtypes(include=['number'])\n",
        "X = df_numeric.drop(columns=['Price_euros'])\n",
        "y = df_numeric['Price_euros']\n",
        "X_train, X_test, y_train, y_test = train_test_split(X, y, test_size=0.2, random_state=42)\n",
        "scaler = StandardScaler()\n",
        "X_train = scaler.fit_transform(X_train)\n",
        "X_test = scaler.transform(X_test)"
      ],
      "metadata": {
        "id": "ttiSfswbbehl"
      },
      "execution_count": 78,
      "outputs": []
    },
    {
      "cell_type": "code",
      "source": [
        "dt_model = DecisionTreeRegressor(random_state=42)\n",
        "dt_model.fit(X_train, y_train)\n",
        "y_pred = dt_model.predict(X_test)"
      ],
      "metadata": {
        "id": "2KFRgiAEbkav"
      },
      "execution_count": 79,
      "outputs": []
    },
    {
      "cell_type": "code",
      "source": [
        "mse = mean_squared_error(y_test, y_pred)\n",
        "r2 = r2_score(y_test, y_pred)\n",
        "accuracy = calculate_accuracy(y_test, y_pred)\n",
        "print(\"Decision Tree\")\n",
        "print(\"Mean Squared Error:\", mse)\n",
        "print(\"R^2 Score:\", r2)\n",
        "print(\"Accuracy :\", accuracy, \"%\")"
      ],
      "metadata": {
        "colab": {
          "base_uri": "https://localhost:8080/"
        },
        "id": "PoxNwpVBbr1D",
        "outputId": "bb2aae11-200b-4472-b09f-696422e2ac57"
      },
      "execution_count": 89,
      "outputs": [
        {
          "output_type": "stream",
          "name": "stdout",
          "text": [
            "Decision Tree\n",
            "Mean Squared Error: 87583.73197593703\n",
            "R^2 Score: 0.8235405972730622\n",
            "Accuracy : 39.6078431372549 %\n"
          ]
        }
      ]
    },
    {
      "cell_type": "code",
      "source": [
        "# 4. Random Forest"
      ],
      "metadata": {
        "id": "jIyGkT2Ibwcu"
      },
      "execution_count": 81,
      "outputs": []
    },
    {
      "cell_type": "code",
      "source": [
        "import pandas as pd\n",
        "from sklearn.model_selection import train_test_split\n",
        "from sklearn.preprocessing import StandardScaler\n",
        "from sklearn.ensemble import RandomForestRegressor\n",
        "from sklearn.metrics import mean_squared_error, r2_score"
      ],
      "metadata": {
        "id": "7pq7WRjUb2oH"
      },
      "execution_count": 82,
      "outputs": []
    },
    {
      "cell_type": "code",
      "source": [
        "df = pd.read_csv('/content/laptop_prices.csv')"
      ],
      "metadata": {
        "id": "yFh0OhQlb8Ri"
      },
      "execution_count": 83,
      "outputs": []
    },
    {
      "cell_type": "code",
      "source": [
        "df_numeric = df.select_dtypes(include=['number'])\n",
        "X = df_numeric.drop(columns=['Price_euros'])\n",
        "y = df_numeric['Price_euros']\n",
        "X_train, X_test, y_train, y_test = train_test_split(X, y, test_size=0.2, random_state=42)\n",
        "scaler = StandardScaler()\n",
        "X_train = scaler.fit_transform(X_train)\n",
        "X_test = scaler.transform(X_test)"
      ],
      "metadata": {
        "id": "NemWHsGfb82g"
      },
      "execution_count": 84,
      "outputs": []
    },
    {
      "cell_type": "code",
      "source": [
        "rf_model = RandomForestRegressor(n_estimators=100, random_state=42)\n",
        "rf_model.fit(X_train, y_train)\n",
        "y_pred = rf_model.predict(X_test)"
      ],
      "metadata": {
        "id": "sPPL8LKhcFwh"
      },
      "execution_count": 85,
      "outputs": []
    },
    {
      "cell_type": "code",
      "source": [
        "mse = mean_squared_error(y_test, y_pred)\n",
        "r2 = r2_score(y_test, y_pred)\n",
        "accuracy = calculate_accuracy(y_test, y_pred)\n",
        "print(\"Random Forest\")\n",
        "print(\"Mean Squared Error:\", mse)\n",
        "print(\"R^2 Score:\", r2)\n",
        "print(\"Accuracy :\", accuracy, \"%\")"
      ],
      "metadata": {
        "colab": {
          "base_uri": "https://localhost:8080/"
        },
        "id": "VotOrbLVcJAX",
        "outputId": "a1103bdc-e26d-43a7-9f9f-302cd384c5c2"
      },
      "execution_count": 90,
      "outputs": [
        {
          "output_type": "stream",
          "name": "stdout",
          "text": [
            "Random Forest\n",
            "Mean Squared Error: 87583.73197593703\n",
            "R^2 Score: 0.8235405972730622\n",
            "Accuracy : 39.6078431372549 %\n"
          ]
        }
      ]
    }
  ]
}